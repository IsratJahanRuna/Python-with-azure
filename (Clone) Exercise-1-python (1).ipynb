{
 "cells": [
  {
   "cell_type": "markdown",
   "metadata": {
    "application/vnd.databricks.v1+cell": {
     "cellMetadata": {
      "byteLimit": 2048000,
      "rowLimit": 10000
     },
     "inputWidgets": {},
     "nuid": "c6ce04d5-d7ba-4d8a-aaec-bc74961e26ba",
     "showTitle": false,
     "title": ""
    }
   },
   "source": [
    "# COMP.CS.320 Data-Intensive Programming, Exercise 1\n",
    "\n",
    "This exercise is mostly introduction to the Azure Databricks notebook system.\n",
    "These are some basic programming tasks that can be done in either Scala or Python. This is the **Python** version, switch to the Scala version if you want to do the task in Scala.\n",
    "\n",
    "Each task has its own cell for the code. Add your solutions to the cells. You are free to add more cells if you feel it is necessary. There are cells with test code following most of the tasks that involve producing code.\n",
    "\n",
    "Don't forget to submit your solutions to Moodle."
   ]
  },
  {
   "cell_type": "markdown",
   "metadata": {
    "application/vnd.databricks.v1+cell": {
     "cellMetadata": {
      "byteLimit": 2048000,
      "rowLimit": 10000
     },
     "inputWidgets": {},
     "nuid": "f9b82d46-cd1d-435e-a948-4abedb92cbce",
     "showTitle": false,
     "title": ""
    }
   },
   "source": [
    "## Task 1 - Read tutorial\n",
    "\n",
    "Read the \"[Basics of using Databricks notebooks](https://adb-5736551434993186.6.azuredatabricks.net/?o=5736551434993186#notebook/1892052735998707/command/1892052735998713)\" tutorial notebook, at least the initial information and the first code examples. Clone the tutorial notebook to your own workspace and run at least those first code examples.\n",
    "\n",
    "To get a point from this task, add \"done\" (or something similar) to the following cell (after you have read the tutorial)."
   ]
  },
  {
   "cell_type": "code",
   "execution_count": 0,
   "metadata": {
    "application/vnd.databricks.v1+cell": {
     "cellMetadata": {
      "byteLimit": 2048000,
      "rowLimit": 10000
     },
     "inputWidgets": {},
     "nuid": "d7d56842-ada4-4b28-a4ef-e68bc6b030e8",
     "showTitle": false,
     "title": ""
    }
   },
   "outputs": [
    {
     "output_type": "stream",
     "name": "stdout",
     "output_type": "stream",
     "text": [
      "Task 1 is done!\n"
     ]
    }
   ],
   "source": [
    "print(\"Task 1 is done!\")"
   ]
  },
  {
   "cell_type": "markdown",
   "metadata": {
    "application/vnd.databricks.v1+cell": {
     "cellMetadata": {
      "byteLimit": 2048000,
      "rowLimit": 10000
     },
     "inputWidgets": {},
     "nuid": "cb017e85-41e4-466b-a47b-fd5881f17199",
     "showTitle": false,
     "title": ""
    }
   },
   "source": [
    "## Task 2 - Basic function\n",
    "\n",
    "In the following cell write a simple function `mySum`, that takes two integer as parameters and returns their sum."
   ]
  },
  {
   "cell_type": "code",
   "execution_count": 0,
   "metadata": {
    "application/vnd.databricks.v1+cell": {
     "cellMetadata": {
      "byteLimit": 2048000,
      "rowLimit": 10000
     },
     "inputWidgets": {},
     "nuid": "596862a1-08cc-466b-b893-2c2c9f3aa18d",
     "showTitle": false,
     "title": ""
    }
   },
   "outputs": [],
   "source": [
    "def mySum(a, b):\n",
    "    return a + b"
   ]
  },
  {
   "cell_type": "code",
   "execution_count": 0,
   "metadata": {
    "application/vnd.databricks.v1+cell": {
     "cellMetadata": {
      "byteLimit": 2048000,
      "rowLimit": 10000
     },
     "inputWidgets": {},
     "nuid": "febc7593-5ec2-4762-9ec3-28a80300a2a8",
     "showTitle": false,
     "title": ""
    }
   },
   "outputs": [
    {
     "output_type": "stream",
     "name": "stdout",
     "output_type": "stream",
     "text": [
      "correct result: 20+21 = 41\n"
     ]
    }
   ],
   "source": [
    "# you can test your function by running both the previous and this cell\n",
    "\n",
    "sum41 = mySum(20, 21)\n",
    "if sum41 == 41:\n",
    "    print(f\"correct result: 20+21 = {sum41}\")\n",
    "else:\n",
    "    print(f\"wrong result: {sum41} != 41\")\n"
   ]
  },
  {
   "cell_type": "markdown",
   "metadata": {
    "application/vnd.databricks.v1+cell": {
     "cellMetadata": {
      "byteLimit": 2048000,
      "rowLimit": 10000
     },
     "inputWidgets": {},
     "nuid": "a38174b9-0f7d-456e-97ef-713b3ddc6a76",
     "showTitle": false,
     "title": ""
    }
   },
   "source": [
    "## Task 3 - Fibonacci numbers\n",
    "\n",
    "The Fibonacci numbers, `F_n`, are defined such that each number is the sum of the two preceding numbers. The first two Fibonacci numbers are:\n",
    "\n",
    "$$F_0 = 0 \\qquad F_1 = 1$$\n",
    "\n",
    "In the following cell, write a **recursive** function, `fibonacci`, that takes in the index and returns the Fibonacci number. (no need for any optimized solution here)\n"
   ]
  },
  {
   "cell_type": "code",
   "execution_count": 0,
   "metadata": {
    "application/vnd.databricks.v1+cell": {
     "cellMetadata": {
      "byteLimit": 2048000,
      "rowLimit": 10000
     },
     "inputWidgets": {},
     "nuid": "28c855c6-3b3e-4681-8b96-659350a2c421",
     "showTitle": false,
     "title": ""
    }
   },
   "outputs": [],
   "source": [
    "def fibonacci(index):\n",
    "    if index == 0:\n",
    "        return 0\n",
    "    elif index == 1:\n",
    "        return 1\n",
    "    else:\n",
    "        return fibonacci(index - 1) + fibonacci(index - 2)"
   ]
  },
  {
   "cell_type": "code",
   "execution_count": 0,
   "metadata": {
    "application/vnd.databricks.v1+cell": {
     "cellMetadata": {
      "byteLimit": 2048000,
      "rowLimit": 10000
     },
     "inputWidgets": {},
     "nuid": "1a93a263-6882-42f1-8bfa-bac8f30fa51e",
     "showTitle": false,
     "title": ""
    }
   },
   "outputs": [
    {
     "output_type": "stream",
     "name": "stdout",
     "output_type": "stream",
     "text": [
      "correct result: fibonacci(6) == 8\ncorrect result: fibonacci(11) == 89\n"
     ]
    }
   ],
   "source": [
    "fibo6 = fibonacci(6)\n",
    "if fibo6 == 8:\n",
    "    print(\"correct result: fibonacci(6) == 8\")\n",
    "else:\n",
    "    print(f\"wrong result: {fibo6} != 8\")\n",
    "\n",
    "fibo11 = fibonacci(11)\n",
    "if fibo11 == 89:\n",
    "    print(\"correct result: fibonacci(11) == 89\")\n",
    "else:\n",
    "    print(f\"wrong result: {fibo11} != 89\")\n"
   ]
  },
  {
   "cell_type": "markdown",
   "metadata": {
    "application/vnd.databricks.v1+cell": {
     "cellMetadata": {
      "byteLimit": 2048000,
      "rowLimit": 10000
     },
     "inputWidgets": {},
     "nuid": "dd1d4b41-9e47-476c-9356-fc8e56426fe7",
     "showTitle": false,
     "title": ""
    }
   },
   "source": [
    "## Task 4 - Higher order functions 1\n",
    "\n",
    "Use functions `map` and `reduce` to compute the sum of cubes of the values in the given list."
   ]
  },
  {
   "cell_type": "code",
   "execution_count": 0,
   "metadata": {
    "application/vnd.databricks.v1+cell": {
     "cellMetadata": {
      "byteLimit": 2048000,
      "rowLimit": 10000
     },
     "inputWidgets": {},
     "nuid": "cf31b244-ef39-44d8-ace1-e6c5ec14042c",
     "showTitle": false,
     "title": ""
    }
   },
   "outputs": [],
   "source": [
    "from functools import reduce\n",
    "\n",
    "myList = [2, 3, 5, 7, 11, 13, 17, 19]\n",
    "\n",
    "cubeSum = reduce(lambda x, y: x + y, map(lambda x: x**3, myList))"
   ]
  },
  {
   "cell_type": "code",
   "execution_count": 0,
   "metadata": {
    "application/vnd.databricks.v1+cell": {
     "cellMetadata": {
      "byteLimit": 2048000,
      "rowLimit": 10000
     },
     "inputWidgets": {},
     "nuid": "67410345-ac30-4bdd-b8f1-b99aeeff7097",
     "showTitle": false,
     "title": ""
    }
   },
   "outputs": [
    {
     "output_type": "stream",
     "name": "stdout",
     "output_type": "stream",
     "text": [
      "correct result: 15803 == 15803\n"
     ]
    }
   ],
   "source": [
    "if cubeSum == 15803:\n",
    "    print(f\"correct result: {cubeSum} == 15803\")\n",
    "else:\n",
    "    print(f\"wrong result: {cubeSum} != 15803\")\n"
   ]
  },
  {
   "cell_type": "markdown",
   "metadata": {
    "application/vnd.databricks.v1+cell": {
     "cellMetadata": {
      "byteLimit": 2048000,
      "rowLimit": 10000
     },
     "inputWidgets": {},
     "nuid": "e1248c72-a1a9-4382-82f6-e5a2bbb32c5f",
     "showTitle": false,
     "title": ""
    }
   },
   "source": [
    "## Task 5 - Higher order functions 2\n",
    "\n",
    "Explain the following Scala code snippet (Python versions given at the end). You can try the snippet piece by piece in a notebook cell or search help from Scaladoc ([https://www.scala-lang.org/api/2.12.x/](https://www.scala-lang.org/api/2.12.x/)).\n",
    "\n",
    "```scala\n",
    "\"sheena is a punk rocker she is a punk punk\"\n",
    "    .split(\" \")\n",
    "    .map(s => (s, 1))\n",
    "    .groupBy(p => p._1)\n",
    "    .mapValues(v => v.length)\n",
    "```\n",
    "\n",
    "What about?\n",
    "\n",
    "```scala\n",
    "\"sheena is a punk rocker she is a punk punk\"\n",
    "    .split(\" \")\n",
    "    .map((_, 1))\n",
    "    .groupBy(_._1)\n",
    "    .mapValues(v => v.map(_._2).reduce(_+_))\n",
    "```\n",
    "\n",
    "For those that don't want to learn anything about Scala, you can do the explanation using the following Python versions:\n",
    "\n",
    "```python\n",
    "from itertools import groupby  # itertools.groupby requires the list to be sorted\n",
    "{\n",
    "    r: len(s) \n",
    "    for r, s in {\n",
    "        p: list(v) \n",
    "        for p, v in groupby(\n",
    "            sorted(\n",
    "                list(map(\n",
    "                    lambda x: (x, 1),\n",
    "                    \"sheena is a punk rocker she is a punk punk\".split(\" \")\n",
    "                )),\n",
    "                key=lambda x: x[0]\n",
    "            ), \n",
    "            lambda x: x[0]\n",
    "        )\n",
    "    }.items()\n",
    "}\n",
    "```\n",
    "\n",
    "```python\n",
    "{\n",
    "    r: reduce(\n",
    "        lambda x, y: x + y, \n",
    "        list(map(lambda x: x[1], s))\n",
    "    )\n",
    "    for r, s in {\n",
    "        p: list(v) \n",
    "        for p, v in groupby(\n",
    "            sorted(\n",
    "                list(map(\n",
    "                    lambda x: (x, 1), \n",
    "                    \"sheena is a punk rocker she is a punk punk\".split(\" \")\n",
    "                )),\n",
    "                key=lambda x: x[0]\n",
    "            ),\n",
    "            lambda x: x[0]\n",
    "        )\n",
    "    }.items()\n",
    "}\n",
    "```\n",
    "\n",
    "The Python code looks way too complex to be used like this. Normally you would forget functional programming paradigm in this case and code this in a different, more simpler way.\n"
   ]
  },
  {
   "cell_type": "code",
   "execution_count": 0,
   "metadata": {
    "application/vnd.databricks.v1+cell": {
     "cellMetadata": {
      "byteLimit": 2048000,
      "rowLimit": 10000
     },
     "inputWidgets": {},
     "nuid": "1bde0dae-744d-42ca-980b-2a847c182fb7",
     "showTitle": false,
     "title": ""
    }
   },
   "outputs": [
    {
     "output_type": "display_data",
     "data": {
      "text/plain": [
       "\u001B[0;36m  File \u001B[0;32m<command-1343792895747660>, line 1\u001B[0;36m\u001B[0m\n",
       "\u001B[0;31m    The provided code snippet appears to be a Python dictionary comprehension that performs frequency analysis on a given input string. It employs the groupby function from the itertools module, which requires the input list to be sorted. The comprehension starts by splitting the input string into individual words, mapping each word to a tuple with the word itself and the value 1. It then sorts this list of tuples based on the words. The groupby function is used to group the sorted tuples by the word, creating a sequence of tuples where the first element is the word and the second is an iterable containing (word, 1) tuples.\u001B[0m\n",
       "\u001B[0m        ^\u001B[0m\n",
       "\u001B[0;31mSyntaxError\u001B[0m\u001B[0;31m:\u001B[0m invalid syntax\n"
      ]
     },
     "metadata": {
      "application/vnd.databricks.v1+output": {
       "arguments": {},
       "data": "\u001B[0;36m  File \u001B[0;32m<command-1343792895747660>, line 1\u001B[0;36m\u001B[0m\n\u001B[0;31m    The provided code snippet appears to be a Python dictionary comprehension that performs frequency analysis on a given input string. It employs the groupby function from the itertools module, which requires the input list to be sorted. The comprehension starts by splitting the input string into individual words, mapping each word to a tuple with the word itself and the value 1. It then sorts this list of tuples based on the words. The groupby function is used to group the sorted tuples by the word, creating a sequence of tuples where the first element is the word and the second is an iterable containing (word, 1) tuples.\u001B[0m\n\u001B[0m        ^\u001B[0m\n\u001B[0;31mSyntaxError\u001B[0m\u001B[0;31m:\u001B[0m invalid syntax\n",
       "errorSummary": "<span class='ansi-red-fg'>SyntaxError</span>: invalid syntax (command-1343792895747660-3801968896, line 1)",
       "errorTraceType": "ansi",
       "metadata": {},
       "type": "ipynbError"
      }
     },
     "output_type": "display_data"
    }
   ],
   "source": [
    "The provided code snippet appears to be a Python dictionary comprehension that performs frequency analysis on a given input string. It employs the groupby function from the itertools module, which requires the input list to be sorted. The comprehension starts by splitting the input string into individual words, mapping each word to a tuple with the word itself and the value 1. It then sorts this list of tuples based on the words. The groupby function is used to group the sorted tuples by the word, creating a sequence of tuples where the first element is the word and the second is an iterable containing (word, 1) tuples.\n",
    "\n",
    "The outer dictionary comprehension iterates over these groups, where p represents the word and v represents the iterable of (word, 1) tuples. For each word p, it creates a dictionary entry with the word as the key and the list of corresponding tuples as the value. Finally, it computes the length of this list, essentially counting the occurrences of that word in the input string. The second dictionary comprehension follows a similar pattern, but instead of counting individual occurrences, it computes the total frequency of each word across the entire input string. This is achieved by using the reduce function along with a lambda expression to sum up the values associated with each word.\n",
    "\n",
    "Overall, these comprehensions perform two distinct types of frequency analysis: one that calculates local frequencies within groups, and another that computes global frequencies across the entire input string."
   ]
  },
  {
   "cell_type": "markdown",
   "metadata": {
    "application/vnd.databricks.v1+cell": {
     "cellMetadata": {
      "byteLimit": 2048000,
      "rowLimit": 10000
     },
     "inputWidgets": {},
     "nuid": "45aa8cf8-a80d-4df2-a304-437e018f159d",
     "showTitle": false,
     "title": ""
    }
   },
   "source": [
    "## Task 6 - Cube root\n",
    "\n",
    "Write a (recursive) function, `cubeRoot`, that returns an approximate value for the cube root of the input. Use the Newton's method, [https://en.wikipedia.org/wiki/Newton's_method](https://en.wikipedia.org/wiki/Newton%27s_method), with the initial guess of 1. For the cube root this Newton's method translates to:\n",
    "\n",
    "$$y_0 = 1$$\n",
    "$$y_{n+1} = \\frac{1}{3}\\bigg(2y_n + \\frac{x}{y_n^2}\\bigg) $$\n",
    "\n",
    "where `x` is the input value and `y_n` is the guess for the cube root after `n` iterations.\n",
    "\n",
    "Example steps when `x=8`:\n",
    "\n",
    "$$y_0 = 1$$\n",
    "$$y_1 = \\frac{1}{3}\\big(2*1 + \\frac{8}{1^2}\\big) = 3.33333$$\n",
    "\n",
    "$$y_2 = \\frac{1}{3}\\big(2*3.33333 + \\frac{8}{3.33333^2}\\big) = 2.46222$$\n",
    "\n",
    "$$y_3 = \\frac{1}{3}\\big(2*2.46222 + \\frac{8}{2.46222^2}\\big) = 2.08134$$\n",
    "\n",
    "$$...$$\n",
    "\n",
    "You will have to decide yourself on what is the condition for stopping the iterations. (you can add parameters to the function if you think it is necessary)\n"
   ]
  },
  {
   "cell_type": "code",
   "execution_count": 0,
   "metadata": {
    "application/vnd.databricks.v1+cell": {
     "cellMetadata": {
      "byteLimit": 2048000,
      "rowLimit": 10000
     },
     "inputWidgets": {},
     "nuid": "ebd0a52c-e50d-4ac6-b675-60e28d5c1248",
     "showTitle": false,
     "title": ""
    }
   },
   "outputs": [],
   "source": [
    "def cubeRoot(x: float) -> float:\n",
    "    def cube_root_recursive(x, y=1):\n",
    "        precision = 1e-6\n",
    "        guess = (2*y**3 + x) / (3*y**2)\n",
    "        if abs(y - guess) < precision:\n",
    "            return guess\n",
    "        else:\n",
    "            return cube_root_recursive(x, guess)\n",
    "    \n",
    "    return cube_root_recursive(x)"
   ]
  },
  {
   "cell_type": "code",
   "execution_count": 0,
   "metadata": {
    "application/vnd.databricks.v1+cell": {
     "cellMetadata": {
      "byteLimit": 2048000,
      "rowLimit": 10000
     },
     "inputWidgets": {},
     "nuid": "7f7202fa-f1d1-4f06-9d06-55fb459773af",
     "showTitle": false,
     "title": ""
    }
   },
   "outputs": [
    {
     "output_type": "stream",
     "name": "stdout",
     "output_type": "stream",
     "text": [
      "correct result: 8.0^(1/3) == 2.0\ncorrect result: 27.0^(1/3) == 3.0000000000000973\ncorrect result: 8279186167.0^(1/3) == 2023.0\ncorrect result: 1.3497462477054311e-05^(1/3) == 0.023809523810128054\n"
     ]
    }
   ],
   "source": [
    "def handleCheck(expectedOutput: float, precision: float) -> None:\n",
    "    inputValue = expectedOutput ** 3\n",
    "    rootValue = cubeRoot(inputValue)\n",
    "    if abs(rootValue - expectedOutput) < precision:\n",
    "        print(f\"correct result: {inputValue}^(1/3) == {rootValue}\")\n",
    "    else:\n",
    "        print(f\"wrong result: {rootValue} != {expectedOutput}\")\n",
    "\n",
    "handleCheck(2.0, 1e-6)\n",
    "handleCheck(3.0, 1e-6)\n",
    "handleCheck(2023.0, 1e-6)\n",
    "handleCheck(1.0/42, 1e-6)\n"
   ]
  },
  {
   "cell_type": "markdown",
   "metadata": {
    "application/vnd.databricks.v1+cell": {
     "cellMetadata": {
      "byteLimit": 2048000,
      "rowLimit": 10000
     },
     "inputWidgets": {},
     "nuid": "0f768aa1-0ce6-4d23-b00d-5a91493eb0ad",
     "showTitle": false,
     "title": ""
    }
   },
   "source": [
    "## Task 7 - First Spark task\n",
    "\n",
    "Create and display a DataFrame with your own data similarly as was done in the tutorial notebook.\n",
    "\n",
    "Then fetch the number of rows from the DataFrame.\n"
   ]
  },
  {
   "cell_type": "code",
   "execution_count": 0,
   "metadata": {
    "application/vnd.databricks.v1+cell": {
     "cellMetadata": {
      "byteLimit": 2048000,
      "rowLimit": 10000
     },
     "inputWidgets": {},
     "nuid": "0cfb166b-d012-4920-b987-025d66dea353",
     "showTitle": false,
     "title": ""
    }
   },
   "outputs": [],
   "source": [
    "from pyspark.sql import SparkSession, DataFrame\n",
    "\n",
    "spark = SparkSession.builder.appName(\"example\").getOrCreate()\n",
    "\n",
    "myData = [(\"Israt\", 25), (\"Jahan\", 30), (\"Runa\", 35), (\"Nasir\", 15), (\"Nafiz\", 23)]\n",
    "\n",
    "myDF: DataFrame = spark.createDataFrame(myData, [\"Name\", \"Age\"])\n",
    "\n",
    "numberOfRows: int = myDF.count()"
   ]
  },
  {
   "cell_type": "code",
   "execution_count": 0,
   "metadata": {
    "application/vnd.databricks.v1+cell": {
     "cellMetadata": {
      "byteLimit": 2048000,
      "rowLimit": 10000
     },
     "inputWidgets": {},
     "nuid": "7a0a564c-326a-495c-a5ae-e7bef64ba866",
     "showTitle": false,
     "title": ""
    }
   },
   "outputs": [
    {
     "output_type": "stream",
     "name": "stdout",
     "output_type": "stream",
     "text": [
      "Correct, the data and the DataFrame have the same number of rows.\n"
     ]
    }
   ],
   "source": [
    "if len(myData) == numberOfRows:\n",
    "    print(\"Correct, the data and the DataFrame have the same number of rows.\")\n",
    "else:\n",
    "    print(f\"Wrong, the data has {len(myData)} items while the DataFrame has {numberOfRows} rows.\")\n"
   ]
  },
  {
   "cell_type": "code",
   "execution_count": 0,
   "metadata": {
    "application/vnd.databricks.v1+cell": {
     "cellMetadata": {
      "byteLimit": 2048000,
      "rowLimit": 10000
     },
     "inputWidgets": {},
     "nuid": "4dc0ac3b-5452-443c-90ee-f7b7a1073f06",
     "showTitle": false,
     "title": ""
    }
   },
   "outputs": [],
   "source": []
  }
 ],
 "metadata": {
  "application/vnd.databricks.v1+notebook": {
   "dashboards": [],
   "language": "python",
   "notebookMetadata": {
    "pythonIndentUnit": 4
   },
   "notebookName": "(Clone) Exercise-1-python",
   "widgets": {}
  }
 },
 "nbformat": 4,
 "nbformat_minor": 0
}
